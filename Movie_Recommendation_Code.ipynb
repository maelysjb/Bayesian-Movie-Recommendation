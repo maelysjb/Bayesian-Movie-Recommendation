{
 "cells": [
  {
   "cell_type": "markdown",
   "metadata": {},
   "source": [
    "# Import Packages"
   ]
  },
  {
   "cell_type": "code",
   "execution_count": 1,
   "metadata": {},
   "outputs": [],
   "source": [
    "# keep track of run time of the code\n",
    "import time\n",
    "start_time = time.time()"
   ]
  },
  {
   "cell_type": "code",
   "execution_count": 2,
   "metadata": {},
   "outputs": [],
   "source": [
    "# Import Packages\n",
    "import numpy as np\n",
    "import pandas as pd\n",
    "from sklearn.metrics import f1_score, precision_score, recall_score"
   ]
  },
  {
   "cell_type": "code",
   "execution_count": 3,
   "metadata": {},
   "outputs": [],
   "source": [
    "def CountFreq(li):\n",
    "    \"\"\"\n",
    "    function to get frequency\n",
    "    \"\"\"\n",
    "    freq = {}\n",
    "    for item in li:\n",
    "        if (item in freq):\n",
    "            freq[item] += 1\n",
    "        else:\n",
    "            freq[item] = 1\n",
    "    freq.pop(np.NaN, 0)\n",
    "    return freq"
   ]
  },
  {
   "cell_type": "markdown",
   "metadata": {},
   "source": [
    "# Import Datasets & Clean Data"
   ]
  },
  {
   "cell_type": "code",
   "execution_count": 4,
   "metadata": {},
   "outputs": [],
   "source": [
    "# read the csv file containing movie data\n",
    "df_movie = pd.read_csv(\"/Users/maelys/tensorflow-test/CS4050/FINAL PROJECT - Movies/data_movie.csv\")"
   ]
  },
  {
   "cell_type": "code",
   "execution_count": 5,
   "metadata": {},
   "outputs": [],
   "source": [
    "genre = list(df_movie['genre_1']) + list(df_movie['genre_2']) + list(df_movie['genre_3']) + list(df_movie['genre_4'])\n",
    "genre_dict = CountFreq(genre)\n",
    "\n",
    "genre_df = pd.DataFrame.from_dict(genre_dict, orient= 'index', columns=['count'])\n",
    "genre_df = genre_df.sort_values(by = \"count\", ascending=False) \n",
    "# genre_df \n",
    "\n",
    "# create new list of column names\n",
    "temp_cols = list(genre_df.index)\n",
    "\n",
    "# Add multiple columns with NaN using columns param\n",
    "df_movie = df_movie.reindex(columns = df_movie.columns.tolist() + temp_cols)\n",
    "\n",
    "# add boolean values under each genre column \n",
    "for col in temp_cols:\n",
    "    condition = (df_movie['genre_1'] == col) | (df_movie['genre_2'] ==  col) | (df_movie['genre_3'] ==  col )|( df_movie['genre_4'] ==  col)\n",
    "    df_movie[col] = np.where(condition, 1,0)"
   ]
  },
  {
   "cell_type": "code",
   "execution_count": 6,
   "metadata": {},
   "outputs": [],
   "source": [
    "actors = list(df_movie['main_actor_1']) + list(df_movie['main_actor_2']) + list(df_movie['main_actor_3']) + list(df_movie['main_actor_4'])\n",
    "actor_dict = CountFreq(actors)\n",
    "\n",
    "actor_df = pd.DataFrame.from_dict(actor_dict, orient= 'index', columns=['count'])\n",
    "actor_df = actor_df.sort_values(by = \"count\", ascending=False)\n",
    "\n",
    "# get smaller set of actors with only top actors\n",
    "actor_small = actor_df.head(400)\n",
    "\n",
    "# create new list of column names\n",
    "temp_cols = list(actor_small.index)\n",
    "len(temp_cols)\n",
    "\n",
    "# Add multiple columns with NaN using columns param\n",
    "df_movie = df_movie.reindex(columns = df_movie.columns.tolist() + temp_cols)\n",
    "\n",
    "# add boolean values under each actor column \n",
    "for col in temp_cols:\n",
    "    condition = (df_movie['main_actor_1'] == col) | (df_movie['main_actor_2'] ==  col) | (df_movie['main_actor_3'] ==  col )|( df_movie['main_actor_4'] ==  col)\n",
    "    df_movie[col] = np.where(condition, 1,0)"
   ]
  },
  {
   "cell_type": "code",
   "execution_count": 7,
   "metadata": {},
   "outputs": [],
   "source": [
    "# dropped features\n",
    "df_movie = df_movie.drop(columns =['main_actor_1', 'main_actor_2', 'main_actor_3', 'main_actor_4', \"genre_1\", \"genre_2\", \"genre_3\", \"genre_4\"])\n",
    "df_movie = df_movie.drop(columns =['trivia', 'domestic', 'worldwide'])\n",
    "df_movie = df_movie.drop(columns =['title', 'release', 'mpaa', 'director', 'writer', 'producer', 'composer'])"
   ]
  },
  {
   "cell_type": "code",
   "execution_count": 8,
   "metadata": {},
   "outputs": [],
   "source": [
    "# read the csv file containing rating data\n",
    "df_rating = pd.read_csv(\"/Users/maelys/tensorflow-test/CS4050/FINAL PROJECT - Movies/data_rating.csv\")\n",
    "\n",
    "# turn rating variable into a binary\n",
    "df_rating['rating_binary'] = np.where(df_rating['rating'] < 4, 0, 1)"
   ]
  },
  {
   "cell_type": "code",
   "execution_count": 9,
   "metadata": {},
   "outputs": [],
   "source": [
    "# read questions dataset and get list of unique user ids\n",
    "df_users = pd.read_csv(\"/Users/maelys/tensorflow-test/CS4050/FINAL PROJECT - Movies/question_movie.csv\")\n",
    "all_users = df_users['user_id'].unique()\n",
    "df_rating = df_rating.loc[df_rating['user_id'].isin(all_users)]"
   ]
  },
  {
   "cell_type": "code",
   "execution_count": 10,
   "metadata": {},
   "outputs": [],
   "source": [
    "users = list(df_rating['user_id'])\n",
    "user_dict = CountFreq(users)\n",
    "\n",
    "user_df = pd.DataFrame.from_dict(user_dict, orient= 'index', columns=['count'])\n",
    "user_df = user_df.sort_values(by = \"count\", ascending=False)\n",
    "\n",
    "user_df['user_id'] = user_df.index"
   ]
  },
  {
   "cell_type": "code",
   "execution_count": 11,
   "metadata": {},
   "outputs": [],
   "source": [
    "# create new list of column names\n",
    "temp_cols = list(user_df.index)\n",
    "len(temp_cols)\n",
    "\n",
    "# Add multiple columns with NaN using columns param\n",
    "user_bools = user_df.reindex(columns = user_df.columns.tolist() + temp_cols)\n",
    "\n",
    "# add boolean values under each column \n",
    "for col in temp_cols:\n",
    "    condition = (user_bools['user_id'] == col)\n",
    "    user_bools[col] = np.where(condition, 1,0)\n",
    "\n",
    "user_bools = user_bools.drop(columns=['count'])"
   ]
  },
  {
   "cell_type": "code",
   "execution_count": 12,
   "metadata": {},
   "outputs": [],
   "source": [
    "# merge users with ratings & movie\n",
    "df_rating = pd.merge(df_rating, user_bools)\n",
    "df = pd.merge(df_rating, df_movie)"
   ]
  },
  {
   "cell_type": "code",
   "execution_count": 13,
   "metadata": {},
   "outputs": [],
   "source": [
    "# drop unnecessary columns\n",
    "df_final = df.drop(columns =['movie_id', 'user_id', 'rating'])"
   ]
  },
  {
   "cell_type": "markdown",
   "metadata": {},
   "source": [
    "# Build Models "
   ]
  },
  {
   "cell_type": "code",
   "execution_count": 14,
   "metadata": {},
   "outputs": [],
   "source": [
    "from sklearn.model_selection import train_test_split\n",
    "from sklearn.linear_model import LogisticRegression\n",
    "\n",
    "# split train/test set \n",
    "X = df_final.drop(columns =['rating_binary']) \n",
    "y = df_final['rating_binary']\n",
    "\n",
    "X_train, X_test, y_train, y_test = train_test_split(X, y, test_size=0.2, train_size=0.8, random_state=0)"
   ]
  },
  {
   "cell_type": "code",
   "execution_count": 15,
   "metadata": {},
   "outputs": [],
   "source": [
    "from sklearn.preprocessing import StandardScaler\n",
    "\n",
    "scaler = StandardScaler()\n",
    "scaler.fit(X_train)\n",
    "X_train_scale = scaler.transform(X_train)\n",
    "X_test_scale = scaler.transform(X_test)"
   ]
  },
  {
   "cell_type": "code",
   "execution_count": 16,
   "metadata": {},
   "outputs": [
    {
     "name": "stdout",
     "output_type": "stream",
     "text": [
      "[0.75321131 0.67674573] [0.84405612 0.54139179] [0.79605031 0.6015488 ]\n"
     ]
    }
   ],
   "source": [
    "# build model\n",
    "model = LogisticRegression(random_state=0).fit(X_train_scale, y_train)\n",
    "\n",
    "# make a prediction\n",
    "pred = model.predict(X_test_scale)\n",
    "\n",
    "# computer p, r, f score\n",
    "p = precision_score(y_test, pred, zero_division=1, average=None, labels = [0,1])\n",
    "r = recall_score(y_test, pred, zero_division=1, average=None, labels = [0,1])\n",
    "f = f1_score(y_test, pred, zero_division=1, average=None, labels = [0,1])\n",
    "\n",
    "print(p, r, f)"
   ]
  },
  {
   "cell_type": "code",
   "execution_count": 17,
   "metadata": {},
   "outputs": [
    {
     "name": "stdout",
     "output_type": "stream",
     "text": [
      "test accuracy 0.7301996050595079\n"
     ]
    }
   ],
   "source": [
    "from sklearn.metrics import accuracy_score\n",
    "# get accuracy\n",
    "a = accuracy_score(y_test, pred)\n",
    "print(\"test accuracy\", a)"
   ]
  },
  {
   "cell_type": "code",
   "execution_count": 18,
   "metadata": {},
   "outputs": [
    {
     "name": "stdout",
     "output_type": "stream",
     "text": [
      "train accuracy 0.7351412655525534\n"
     ]
    }
   ],
   "source": [
    "pred_train = model.predict(X_train_scale)\n",
    "a_train = accuracy_score(y_train, pred_train)\n",
    "print(\"train accuracy\", a_train)"
   ]
  },
  {
   "cell_type": "markdown",
   "metadata": {},
   "source": [
    "# Predictions for Question Movie Data"
   ]
  },
  {
   "cell_type": "code",
   "execution_count": 19,
   "metadata": {},
   "outputs": [],
   "source": [
    "df_question = pd.read_csv(\"/Users/maelys/tensorflow-test/CS4050/FINAL PROJECT - Movies/question_movie.csv\")\n",
    "\n",
    "# merge questions & ratings\n",
    "df_qr = pd.merge(user_bools, df_question)\n",
    "\n",
    "# merge question & ratings with movie\n",
    "df_qrm = pd.merge(df_qr, df_movie)\n",
    "df_qrm = df_qrm.sort_values(by =\"order\")\n",
    "\n",
    "# split X & y \n",
    "X_q = df_qrm.drop(columns =['recommend', 'user_id', 'movie_id', 'order']) \n",
    "y_q = df_qrm[['order', 'user_id', 'movie_id', 'recommend']] # recommend"
   ]
  },
  {
   "cell_type": "code",
   "execution_count": 20,
   "metadata": {},
   "outputs": [
    {
     "name": "stderr",
     "output_type": "stream",
     "text": [
      "/var/folders/j9/ml55ksg56l142qzt5p8vn1y00000gn/T/ipykernel_10629/2417946611.py:8: SettingWithCopyWarning: \n",
      "A value is trying to be set on a copy of a slice from a DataFrame.\n",
      "Try using .loc[row_indexer,col_indexer] = value instead\n",
      "\n",
      "See the caveats in the documentation: https://pandas.pydata.org/pandas-docs/stable/user_guide/indexing.html#returning-a-view-versus-a-copy\n",
      "  y_q['recommend'] = y_pred\n",
      "/var/folders/j9/ml55ksg56l142qzt5p8vn1y00000gn/T/ipykernel_10629/2417946611.py:9: SettingWithCopyWarning: \n",
      "A value is trying to be set on a copy of a slice from a DataFrame\n",
      "\n",
      "See the caveats in the documentation: https://pandas.pydata.org/pandas-docs/stable/user_guide/indexing.html#returning-a-view-versus-a-copy\n",
      "  y_q.recommend.replace((1,0), ('TRUE', 'FALSE'), inplace=True)\n"
     ]
    }
   ],
   "source": [
    "# scale X \n",
    "X_q_scale = scaler.transform(X_q)\n",
    "\n",
    "# predict y\n",
    "y_pred = model.predict(X_q_scale)\n",
    "\n",
    "# append results to dataframe & save csv file\n",
    "y_q['recommend'] = y_pred\n",
    "y_q.recommend.replace((1,0), ('TRUE', 'FALSE'), inplace=True)\n",
    "y_q.to_csv('CS4050_RESULTS.csv', index=False)"
   ]
  },
  {
   "cell_type": "code",
   "execution_count": 21,
   "metadata": {},
   "outputs": [
    {
     "name": "stdout",
     "output_type": "stream",
     "text": [
      "Total Run Time 88.39608907699585 seconds\n"
     ]
    }
   ],
   "source": [
    "# get final run time\n",
    "end_time = time.time()\n",
    "run_time = end_time - start_time\n",
    "print(\"Total Run Time\", run_time, \"seconds\")"
   ]
  },
  {
   "cell_type": "code",
   "execution_count": null,
   "metadata": {},
   "outputs": [],
   "source": []
  }
 ],
 "metadata": {
  "kernelspec": {
   "display_name": "Python 3 (ipykernel)",
   "language": "python",
   "name": "python3"
  },
  "language_info": {
   "codemirror_mode": {
    "name": "ipython",
    "version": 3
   },
   "file_extension": ".py",
   "mimetype": "text/x-python",
   "name": "python",
   "nbconvert_exporter": "python",
   "pygments_lexer": "ipython3",
   "version": "3.10.6"
  }
 },
 "nbformat": 4,
 "nbformat_minor": 2
}
